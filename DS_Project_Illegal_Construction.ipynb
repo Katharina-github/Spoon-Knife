{
  "nbformat": 4,
  "nbformat_minor": 0,
  "metadata": {
    "colab": {
      "provenance": [],
      "toc_visible": true,
      "include_colab_link": true
    },
    "kernelspec": {
      "name": "python3",
      "display_name": "Python 3"
    },
    "language_info": {
      "name": "python"
    }
  },
  "cells": [
    {
      "cell_type": "markdown",
      "metadata": {
        "id": "view-in-github",
        "colab_type": "text"
      },
      "source": [
        "<a href=\"https://colab.research.google.com/github/Katharina-github/Spoon-Knife/blob/main/DS_Project_Illegal_Construction.ipynb\" target=\"_parent\"><img src=\"https://colab.research.google.com/assets/colab-badge.svg\" alt=\"Open In Colab\"/></a>"
      ]
    },
    {
      "cell_type": "markdown",
      "source": [
        "Hello group,\n",
        "here our first notebook on Colab to work togehter"
      ],
      "metadata": {
        "id": "lIAD2qqsSsfa"
      }
    },
    {
      "cell_type": "markdown",
      "source": [
        "Copied links with (maybe) useful content:\n",
        "\n",
        "About the project:\n",
        "\n",
        ">Project description:\n",
        "https://docs.google.com/document/d/1-2ftGRjf_y92rF1WO9N4s9rk8JEj--K5bcDfHj7hSic/edit?usp=sharing\n",
        "\n",
        ">Project methodology report:\n",
        "https://docs.google.com/document/d/1sbgOhiBA4hIYgkO-wrEDZrAejmoz9Ezr5EEwDqsdGMw/edit?usp=sharing\n",
        "\n",
        ">Template Data Audit:\n",
        "https://drive.google.com/open?id=1BZF56pzSsScHQZjJnM945iCcAKyxm2BqRsv7at-1bqY&usp=drive_copy\n",
        "\n",
        ">Defense_Methodology:\n",
        "https://docs.google.com/document/d/1bF9K4yBjaeWvBRdnNCIpwHDLqdZUHX1VRiEpQOQPY0A/edit?usp=sharing\n",
        "\n",
        ">Project description:\n",
        "https://docs.google.com/document/d/1-2ftGRjf_y92rF1WO9N4s9rk8JEj--K5bcDfHj7hSic/edit?usp=sharing\n",
        "\n",
        ">Project methodology report:\n",
        "https://docs.google.com/document/d/1sbgOhiBA4hIYgkO-wrEDZrAejmoz9Ezr5EEwDqsdGMw/edit?usp=sharing\n",
        "\n",
        ">Template Data Audit:\n",
        "https://drive.google.com/open?id=1BZF56pzSsScHQZjJnM945iCcAKyxm2BqRsv7at-1bqY&usp=drive_copy\n",
        "\n",
        ">Defense_Methodology:\n",
        "https://docs.google.com/document/d/1bF9K4yBjaeWvBRdnNCIpwHDLqdZUHX1VRiEpQOQPY0A/edit?usp=sharing\n",
        "\n",
        "\n",
        "About object detection:\n",
        "\n",
        ">Video Multibox Detection by Sarah:\n",
        "https://www.youtube.com/watch?v=nK_z7bw3CZs\n",
        "\n",
        "\n",
        ">Detection of Undocumented Building Constructions from Official Geodata Using a Convolutional Neural Network:\n",
        "https://www.mdpi.com/2072-4292/12/21/3537\n",
        "\n",
        "\n",
        ">Detection of Illegal Buildings, Settlements, and Constructions Using AI and Aerial/Satellite Imagery:\n",
        "https://www.linkedin.com/pulse/detection-illegal-buildings-settlements-constructions-deepak-gaur/\n",
        "\n",
        ">Microsoft Building Footprints\n",
        "https://planetarycomputer.microsoft.com/dataset/ms-buildings#overview\n"
      ],
      "metadata": {
        "id": "blFzfDLkWctj"
      }
    },
    {
      "cell_type": "code",
      "source": [
        "from google.colab import drive\n",
        "drive.mount('/content/drive')"
      ],
      "metadata": {
        "colab": {
          "base_uri": "https://localhost:8080/"
        },
        "id": "KsrBQrh-Qahr",
        "outputId": "2c9cb02a-55f4-4313-81e1-844802c53a84"
      },
      "execution_count": null,
      "outputs": [
        {
          "output_type": "stream",
          "name": "stdout",
          "text": [
            "Mounted at /content/drive\n"
          ]
        }
      ]
    }
  ]
}